{
 "cells": [
  {
   "cell_type": "markdown",
   "id": "ebd8c690",
   "metadata": {},
   "source": [
    "# 🏀 HoopSim Quickstart\n",
    "This notebook verifies your environment, grabs sample NBA data, and walks through the first steps of the project."
   ]
  },
  {
   "cell_type": "markdown",
   "id": "2d9ce887",
   "metadata": {},
   "source": [
    "## 1) Environment Check"
   ]
  },
  {
   "cell_type": "code",
   "execution_count": null,
   "id": "c88f7c52",
   "metadata": {},
   "outputs": [],
   "source": [
    "import sys, platform\n",
    "print(\"Python:\", sys.version)\n",
    "print(\"Platform:\", platform.platform())\n",
    "for pkg in [\"pandas\",\"numpy\",\"matplotlib\",\"sklearn\",\"tqdm\"]:\n",
    "    try:\n",
    "        __import__(pkg)\n",
    "        print(f\"{pkg}: OK\")\n",
    "    except Exception as e:\n",
    "        print(f\"{pkg}: MISSING -> {e}\")\n"
   ]
  },
  {
   "cell_type": "markdown",
   "id": "8bf244ce",
   "metadata": {},
   "source": [
    "## 2) Import Libraries"
   ]
  },
  {
   "cell_type": "code",
   "execution_count": null,
   "id": "04062448",
   "metadata": {},
   "outputs": [],
   "source": [
    "import pandas as pd\n",
    "import numpy as np\n",
    "import matplotlib.pyplot as plt\n",
    "from tqdm import tqdm\n",
    "pd.set_option(\"display.max_columns\", 50)\n"
   ]
  },
  {
   "cell_type": "markdown",
   "id": "0f180fc4",
   "metadata": {},
   "source": [
    "## 3) Load Historical Games (FiveThirtyEight Elo)"
   ]
  },
  {
   "cell_type": "code",
   "execution_count": null,
   "id": "760b002e",
   "metadata": {},
   "outputs": [],
   "source": [
    "# You need internet for this cell. If running offline, skip and load a local copy of nbaallelo.csv\n",
    "URL = \"https://raw.githubusercontent.com/fivethirtyeight/data/master/nba-elo/nbaallelo.csv\"\n",
    "nba = pd.read_csv(URL)\n",
    "nba.head()\n"
   ]
  },
  {
   "cell_type": "markdown",
   "id": "b0297e11",
   "metadata": {},
   "source": [
    "## 4) Compute Last Season End-of-Year Elo per Team"
   ]
  },
  {
   "cell_type": "code",
   "execution_count": null,
   "id": "5035f991",
   "metadata": {},
   "outputs": [],
   "source": [
    "season = 2023  # change as needed\n",
    "season_data = nba[nba[\"year_id\"] == season].copy()\n",
    "last_games = season_data.sort_values([\"team_id\",\"date_game\"]).groupby(\"team_id\").tail(1)\n",
    "last_elo = last_games[[\"team_id\",\"elo_n\"]].rename(columns={\"team_id\":\"team\",\"elo_n\":\"last_elo\"})\n",
    "last_elo.sort_values(\"last_elo\", ascending=False).head(10)\n"
   ]
  },
  {
   "cell_type": "markdown",
   "id": "c20536f1",
   "metadata": {},
   "source": [
    "## 5) Visualize Top Teams by Elo"
   ]
  },
  {
   "cell_type": "code",
   "execution_count": null,
   "id": "7c81330d",
   "metadata": {},
   "outputs": [],
   "source": [
    "top = last_elo.sort_values(\"last_elo\", ascending=False).head(10)\n",
    "plt.figure(figsize=(6,4))\n",
    "plt.barh(top[\"team\"], top[\"last_elo\"])\n",
    "plt.gca().invert_yaxis()\n",
    "plt.xlabel(\"End of Season Elo\")\n",
    "plt.title(f\"Top Teams — {season}\")\n",
    "plt.show()\n"
   ]
  },
  {
   "cell_type": "markdown",
   "id": "55ab040a",
   "metadata": {},
   "source": [
    "## 6) Build Hybrid Start Ratings (Regressed Elo + Roster Metric)\n",
    "**Option A:** Run this with Basketball-Reference Scraper (requires internet) — or paste a precomputed CSV."
   ]
  },
  {
   "cell_type": "code",
   "execution_count": null,
   "id": "14d05a50",
   "metadata": {},
   "outputs": [],
   "source": [
    "# If you have internet:\n",
    "# from basketball_reference_scraper.teams import get_roster_stats\n",
    "# teams_abr = ['ATL','BOS','BRK','CHI','CHO','CLE','DAL','DEN','DET','GSW','HOU','IND','LAC','LAL','MEM',\n",
    "#              'MIA','MIL','MIN','NOP','NYK','OKC','ORL','PHI','PHO','POR','SAC','SAS','TOR','UTA','WAS']\n",
    "# season_end_year = 2024\n",
    "# rosters = []\n",
    "# for t in teams_abr:\n",
    "#     df = get_roster_stats(t, season_end_year=season_end_year)\n",
    "#     df['TEAM'] = t\n",
    "#     rosters.append(df)\n",
    "# roster = pd.concat(rosters, ignore_index=True)\n",
    "\n",
    "# For offline demo, create a tiny fake roster strength table (replace with real data)\n",
    "player_strength = pd.DataFrame({\n",
    "    \"team\": last_elo[\"team\"].sample(min(10, len(last_elo)), random_state=42).values,\n",
    "    \"player_rating\": np.random.normal(1500, 80, size=min(10, len(last_elo)))\n",
    "})\n",
    "\n",
    "LEAGUE_AVG = 1500\n",
    "W_DECAY = 0.35\n",
    "last_elo[\"regressed_elo\"] = (1 - W_DECAY) * last_elo[\"last_elo\"] + W_DECAY * LEAGUE_AVG\n",
    "\n",
    "hybrid = pd.merge(last_elo, player_strength, on=\"team\", how=\"left\")\n",
    "hybrid[\"player_rating\"] = hybrid[\"player_rating\"].fillna(LEAGUE_AVG)\n",
    "hybrid[\"start_rating\"] = 0.5 * hybrid[\"regressed_elo\"] + 0.5 * hybrid[\"player_rating\"]\n",
    "hybrid[\"start_rating\"] = 1500 + (hybrid[\"start_rating\"] - hybrid[\"start_rating\"].mean())\n",
    "hybrid.sort_values(\"start_rating\", ascending=False).head(10)\n"
   ]
  },
  {
   "cell_type": "markdown",
   "id": "6cf6b497",
   "metadata": {},
   "source": [
    "## 7) Save Clean Start Ratings CSV"
   ]
  },
  {
   "cell_type": "code",
   "execution_count": null,
   "id": "916b0abb",
   "metadata": {},
   "outputs": [],
   "source": [
    "import os\n",
    "os.makedirs(\"data\", exist_ok=True)\n",
    "hybrid.to_csv(\"data/team_start_ratings.csv\", index=False)\n",
    "print(\"Saved -> data/team_start_ratings.csv\")\n"
   ]
  },
  {
   "cell_type": "markdown",
   "id": "564c42ec",
   "metadata": {},
   "source": [
    "## 8) Next Steps\n",
    "- Implement season schedule download (`data.nba.net`)\n",
    "- Write `simulate_regular_season` and `simulate_series`\n",
    "- Run Monte Carlo and plot championship odds\n",
    "- Backtest on past seasons"
   ]
  }
 ],
 "metadata": {},
 "nbformat": 4,
 "nbformat_minor": 5
}
